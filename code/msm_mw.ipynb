{
 "cells": [
  {
   "cell_type": "code",
   "execution_count": 7,
   "metadata": {
    "vscode": {
     "languageId": "r"
    }
   },
   "outputs": [
    {
     "name": "stderr",
     "output_type": "stream",
     "text": [
      "\n",
      "Attache Paket: 'dplyr'\n",
      "\n",
      "\n",
      "Die folgenden Objekte sind maskiert von 'package:stats':\n",
      "\n",
      "    filter, lag\n",
      "\n",
      "\n",
      "Die folgenden Objekte sind maskiert von 'package:base':\n",
      "\n",
      "    intersect, setdiff, setequal, union\n",
      "\n",
      "\n",
      "\n",
      "Attache Paket: 'ktools'\n",
      "\n",
      "\n",
      "Das folgende Objekt ist maskiert 'package:dplyr':\n",
      "\n",
      "    compute\n",
      "\n",
      "\n",
      "Die folgenden Objekte sind maskiert von 'package:base':\n",
      "\n",
      "    remove, table\n",
      "\n",
      "\n",
      "Warning message:\n",
      "\"Paket 'jsonlite' wurde unter R Version 4.1.2 erstellt\"\n",
      "Warning message:\n",
      "\"Paket 'magrittr' wurde unter R Version 4.1.2 erstellt\"\n",
      "\n",
      "Attache Paket: 'magrittr'\n",
      "\n",
      "\n",
      "Das folgende Objekt ist maskiert 'package:tidyr':\n",
      "\n",
      "    extract\n",
      "\n",
      "\n"
     ]
    }
   ],
   "source": [
    "library(rdhs)\n",
    "library(survival)\n",
    "library(dplyr)\n",
    "library(haven)\n",
    "library(tidyr)\n",
    "library(ktools)\n",
    "library(jsonlite)\n",
    "library(magrittr)"
   ]
  },
  {
   "cell_type": "code",
   "execution_count": 28,
   "metadata": {
    "vscode": {
     "languageId": "r"
    }
   },
   "outputs": [
    {
     "data": {
      "text/html": [
       "<table class=\"dataframe\">\n",
       "<caption>A data.frame: 1 × 8</caption>\n",
       "<thead>\n",
       "\t<tr><th></th><th scope=col>caseid</th><th scope=col>dob_cmc</th><th scope=col>doi_cmc</th><th scope=col>unions</th><th scope=col>afs</th><th scope=col>marital_status</th><th scope=col>marriage_age</th><th scope=col>age</th></tr>\n",
       "\t<tr><th></th><th scope=col>&lt;chr&gt;</th><th scope=col>&lt;int&gt;</th><th scope=col>&lt;int&gt;</th><th scope=col>&lt;int+lbl&gt;</th><th scope=col>&lt;int+lbl&gt;</th><th scope=col>&lt;fct&gt;</th><th scope=col>&lt;int&gt;</th><th scope=col>&lt;dbl&gt;</th></tr>\n",
       "</thead>\n",
       "<tbody>\n",
       "\t<tr><th scope=row>1</th><td>      1001 5  1</td><td>773</td><td>1207</td><td>2</td><td>15</td><td>divorced</td><td>15</td><td>36.16667</td></tr>\n",
       "</tbody>\n",
       "</table>\n"
      ],
      "text/latex": [
       "A data.frame: 1 × 8\n",
       "\\begin{tabular}{r|llllllll}\n",
       "  & caseid & dob\\_cmc & doi\\_cmc & unions & afs & marital\\_status & marriage\\_age & age\\\\\n",
       "  & <chr> & <int> & <int> & <int+lbl> & <int+lbl> & <fct> & <int> & <dbl>\\\\\n",
       "\\hline\n",
       "\t1 &       1001 5  1 & 773 & 1207 & 2 & 15 & divorced & 15 & 36.16667\\\\\n",
       "\\end{tabular}\n"
      ],
      "text/markdown": [
       "\n",
       "A data.frame: 1 × 8\n",
       "\n",
       "| <!--/--> | caseid &lt;chr&gt; | dob_cmc &lt;int&gt; | doi_cmc &lt;int&gt; | unions &lt;int+lbl&gt; | afs &lt;int+lbl&gt; | marital_status &lt;fct&gt; | marriage_age &lt;int&gt; | age &lt;dbl&gt; |\n",
       "|---|---|---|---|---|---|---|---|---|\n",
       "| 1 |       1001 5  1 | 773 | 1207 | 2 | 15 | divorced | 15 | 36.16667 |\n",
       "\n"
      ],
      "text/plain": [
       "  caseid          dob_cmc doi_cmc unions afs marital_status marriage_age\n",
       "1       1001 5  1 773     1207    2      15  divorced       15          \n",
       "  age     \n",
       "1 36.16667"
      ]
     },
     "metadata": {},
     "output_type": "display_data"
    }
   ],
   "source": [
    "df %>%\n",
    "    filter(unions == 2) %>%\n",
    "    mutate(age = (doi_cmc - dob_cmc) / 12) %>%\n",
    "    head(1) %>%\n",
    "    allot(xx)\n",
    "xx"
   ]
  },
  {
   "cell_type": "code",
   "execution_count": 34,
   "metadata": {
    "vscode": {
     "languageId": "r"
    }
   },
   "outputs": [
    {
     "data": {
      "text/html": [
       "<table class=\"dataframe\">\n",
       "<caption>A tibble: 18 × 6</caption>\n",
       "<thead>\n",
       "\t<tr><th scope=col>age</th><th scope=col>unions</th><th scope=col>afs</th><th scope=col>aam</th><th scope=col>marital_status</th><th scope=col>episode</th></tr>\n",
       "\t<tr><th scope=col>&lt;dbl&gt;</th><th scope=col>&lt;dbl&gt;</th><th scope=col>&lt;dbl&gt;</th><th scope=col>&lt;dbl&gt;</th><th scope=col>&lt;chr&gt;</th><th scope=col>&lt;int&gt;</th></tr>\n",
       "</thead>\n",
       "<tbody>\n",
       "\t<tr><td>36</td><td>2</td><td>15</td><td>15</td><td>divorced</td><td> 1</td></tr>\n",
       "\t<tr><td>36</td><td>2</td><td>15</td><td>15</td><td>divorced</td><td> 2</td></tr>\n",
       "\t<tr><td>36</td><td>2</td><td>15</td><td>15</td><td>divorced</td><td> 3</td></tr>\n",
       "\t<tr><td>36</td><td>2</td><td>15</td><td>15</td><td>divorced</td><td> 4</td></tr>\n",
       "\t<tr><td>36</td><td>2</td><td>15</td><td>15</td><td>divorced</td><td> 5</td></tr>\n",
       "\t<tr><td>36</td><td>2</td><td>15</td><td>15</td><td>divorced</td><td> 6</td></tr>\n",
       "\t<tr><td>36</td><td>2</td><td>15</td><td>15</td><td>divorced</td><td> 7</td></tr>\n",
       "\t<tr><td>36</td><td>2</td><td>15</td><td>15</td><td>divorced</td><td> 8</td></tr>\n",
       "\t<tr><td>36</td><td>2</td><td>15</td><td>15</td><td>divorced</td><td> 9</td></tr>\n",
       "\t<tr><td>36</td><td>2</td><td>15</td><td>15</td><td>divorced</td><td>10</td></tr>\n",
       "\t<tr><td>36</td><td>2</td><td>15</td><td>15</td><td>divorced</td><td>11</td></tr>\n",
       "\t<tr><td>36</td><td>2</td><td>15</td><td>15</td><td>divorced</td><td>12</td></tr>\n",
       "\t<tr><td>36</td><td>2</td><td>15</td><td>15</td><td>divorced</td><td>13</td></tr>\n",
       "\t<tr><td>36</td><td>2</td><td>15</td><td>15</td><td>divorced</td><td>14</td></tr>\n",
       "\t<tr><td>36</td><td>2</td><td>15</td><td>15</td><td>divorced</td><td>15</td></tr>\n",
       "\t<tr><td>36</td><td>2</td><td>15</td><td>15</td><td>divorced</td><td>16</td></tr>\n",
       "\t<tr><td>36</td><td>2</td><td>15</td><td>15</td><td>divorced</td><td>17</td></tr>\n",
       "\t<tr><td>36</td><td>2</td><td>15</td><td>15</td><td>divorced</td><td>18</td></tr>\n",
       "</tbody>\n",
       "</table>\n"
      ],
      "text/latex": [
       "A tibble: 18 × 6\n",
       "\\begin{tabular}{llllll}\n",
       " age & unions & afs & aam & marital\\_status & episode\\\\\n",
       " <dbl> & <dbl> & <dbl> & <dbl> & <chr> & <int>\\\\\n",
       "\\hline\n",
       "\t 36 & 2 & 15 & 15 & divorced &  1\\\\\n",
       "\t 36 & 2 & 15 & 15 & divorced &  2\\\\\n",
       "\t 36 & 2 & 15 & 15 & divorced &  3\\\\\n",
       "\t 36 & 2 & 15 & 15 & divorced &  4\\\\\n",
       "\t 36 & 2 & 15 & 15 & divorced &  5\\\\\n",
       "\t 36 & 2 & 15 & 15 & divorced &  6\\\\\n",
       "\t 36 & 2 & 15 & 15 & divorced &  7\\\\\n",
       "\t 36 & 2 & 15 & 15 & divorced &  8\\\\\n",
       "\t 36 & 2 & 15 & 15 & divorced &  9\\\\\n",
       "\t 36 & 2 & 15 & 15 & divorced & 10\\\\\n",
       "\t 36 & 2 & 15 & 15 & divorced & 11\\\\\n",
       "\t 36 & 2 & 15 & 15 & divorced & 12\\\\\n",
       "\t 36 & 2 & 15 & 15 & divorced & 13\\\\\n",
       "\t 36 & 2 & 15 & 15 & divorced & 14\\\\\n",
       "\t 36 & 2 & 15 & 15 & divorced & 15\\\\\n",
       "\t 36 & 2 & 15 & 15 & divorced & 16\\\\\n",
       "\t 36 & 2 & 15 & 15 & divorced & 17\\\\\n",
       "\t 36 & 2 & 15 & 15 & divorced & 18\\\\\n",
       "\\end{tabular}\n"
      ],
      "text/markdown": [
       "\n",
       "A tibble: 18 × 6\n",
       "\n",
       "| age &lt;dbl&gt; | unions &lt;dbl&gt; | afs &lt;dbl&gt; | aam &lt;dbl&gt; | marital_status &lt;chr&gt; | episode &lt;int&gt; |\n",
       "|---|---|---|---|---|---|\n",
       "| 36 | 2 | 15 | 15 | divorced |  1 |\n",
       "| 36 | 2 | 15 | 15 | divorced |  2 |\n",
       "| 36 | 2 | 15 | 15 | divorced |  3 |\n",
       "| 36 | 2 | 15 | 15 | divorced |  4 |\n",
       "| 36 | 2 | 15 | 15 | divorced |  5 |\n",
       "| 36 | 2 | 15 | 15 | divorced |  6 |\n",
       "| 36 | 2 | 15 | 15 | divorced |  7 |\n",
       "| 36 | 2 | 15 | 15 | divorced |  8 |\n",
       "| 36 | 2 | 15 | 15 | divorced |  9 |\n",
       "| 36 | 2 | 15 | 15 | divorced | 10 |\n",
       "| 36 | 2 | 15 | 15 | divorced | 11 |\n",
       "| 36 | 2 | 15 | 15 | divorced | 12 |\n",
       "| 36 | 2 | 15 | 15 | divorced | 13 |\n",
       "| 36 | 2 | 15 | 15 | divorced | 14 |\n",
       "| 36 | 2 | 15 | 15 | divorced | 15 |\n",
       "| 36 | 2 | 15 | 15 | divorced | 16 |\n",
       "| 36 | 2 | 15 | 15 | divorced | 17 |\n",
       "| 36 | 2 | 15 | 15 | divorced | 18 |\n",
       "\n"
      ],
      "text/plain": [
       "   age unions afs aam marital_status episode\n",
       "1  36  2      15  15  divorced        1     \n",
       "2  36  2      15  15  divorced        2     \n",
       "3  36  2      15  15  divorced        3     \n",
       "4  36  2      15  15  divorced        4     \n",
       "5  36  2      15  15  divorced        5     \n",
       "6  36  2      15  15  divorced        6     \n",
       "7  36  2      15  15  divorced        7     \n",
       "8  36  2      15  15  divorced        8     \n",
       "9  36  2      15  15  divorced        9     \n",
       "10 36  2      15  15  divorced       10     \n",
       "11 36  2      15  15  divorced       11     \n",
       "12 36  2      15  15  divorced       12     \n",
       "13 36  2      15  15  divorced       13     \n",
       "14 36  2      15  15  divorced       14     \n",
       "15 36  2      15  15  divorced       15     \n",
       "16 36  2      15  15  divorced       16     \n",
       "17 36  2      15  15  divorced       17     \n",
       "18 36  2      15  15  divorced       18     "
      ]
     },
     "metadata": {},
     "output_type": "display_data"
    }
   ],
   "source": [
    "tibble(\n",
    "    age = 36,\n",
    "    unions = 2,\n",
    "    afs = 15,\n",
    "    aam = 15,\n",
    "    marital_status = \"divorced\"\n",
    ") %>%\n",
    "    uncount(18, .id = \"episode\") %>%\n",
    "    mutate()"
   ]
  },
  {
   "cell_type": "code",
   "execution_count": 29,
   "metadata": {
    "vscode": {
     "languageId": "r"
    }
   },
   "outputs": [
    {
     "data": {
      "text/html": [
       "<pre class=language-r><code>function (x, duration, event, cuts, time_varying = NULL, label_episode = FALSE) \n",
       "{\n",
       "<span style=white-space:pre-wrap>    if (any(cuts &lt; 0)) </span>\n",
       "<span style=white-space:pre-wrap>        stop(\"negative time is not supported\")</span>\n",
       "<span style=white-space:pre-wrap>    x$n_dup &lt;- kut(x[, duration], cuts, include.lowest = TRUE)</span>\n",
       "<span style=white-space:pre-wrap>    episode_labs &lt;- levels(x$n_dup)</span>\n",
       "<span style=white-space:pre-wrap>    x &lt;- unkount(x, n_dup)</span>\n",
       "<span style=white-space:pre-wrap>    x$n_dup &lt;- NULL</span>\n",
       "<span style=white-space:pre-wrap>    episode &lt;- gsub(\"[0-9]*\\\\.?(.*)\", \"\\\\1\", rownames(x), perl = TRUE)</span>\n",
       "<span style=white-space:pre-wrap>    episode[episode == \"\"] &lt;- \"0\"</span>\n",
       "<span style=white-space:pre-wrap>    x$episode &lt;- as.numeric(episode) + 1</span>\n",
       "<span style=white-space:pre-wrap>    x$t_start &lt;- c(0, cuts)[x$episode]</span>\n",
       "<span style=white-space:pre-wrap>    x$t_end &lt;- c(x$t_start[2L:nrow(x)], 0)</span>\n",
       "<span style=white-space:pre-wrap>    x$t_end[x$t_end == 0] &lt;- x[, duration][x$t_end == 0]</span>\n",
       "<span style=white-space:pre-wrap>    x[, event] &lt;- x[, event] * (x$t_end == x[, duration])</span>\n",
       "<span style=white-space:pre-wrap>    if (label_episode) </span>\n",
       "<span style=white-space:pre-wrap>        x$episode &lt;- factor(x$episode, seq_along(episode_labs), </span>\n",
       "<span style=white-space:pre-wrap>            episode_labs)</span>\n",
       "<span style=white-space:pre-wrap>    x</span>\n",
       "}</code></pre>"
      ],
      "text/latex": [
       "\\begin{minted}{r}\n",
       "function (x, duration, event, cuts, time\\_varying = NULL, label\\_episode = FALSE) \n",
       "\\{\n",
       "    if (any(cuts < 0)) \n",
       "        stop(\"negative time is not supported\")\n",
       "    x\\$n\\_dup <- kut(x{[}, duration{]}, cuts, include.lowest = TRUE)\n",
       "    episode\\_labs <- levels(x\\$n\\_dup)\n",
       "    x <- unkount(x, n\\_dup)\n",
       "    x\\$n\\_dup <- NULL\n",
       "    episode <- gsub(\"{[}0-9{]}*\\textbackslash{}\\textbackslash{}.?(.*)\", \"\\textbackslash{}\\textbackslash{}1\", rownames(x), perl = TRUE)\n",
       "    episode{[}episode == \"\"{]} <- \"0\"\n",
       "    x\\$episode <- as.numeric(episode) + 1\n",
       "    x\\$t\\_start <- c(0, cuts){[}x\\$episode{]}\n",
       "    x\\$t\\_end <- c(x\\$t\\_start{[}2L:nrow(x){]}, 0)\n",
       "    x\\$t\\_end{[}x\\$t\\_end == 0{]} <- x{[}, duration{]}{[}x\\$t\\_end == 0{]}\n",
       "    x{[}, event{]} <- x{[}, event{]} * (x\\$t\\_end == x{[}, duration{]})\n",
       "    if (label\\_episode) \n",
       "        x\\$episode <- factor(x\\$episode, seq\\_along(episode\\_labs), \n",
       "            episode\\_labs)\n",
       "    x\n",
       "\\}\n",
       "\\end{minted}"
      ],
      "text/markdown": [
       "```r\n",
       "function (x, duration, event, cuts, time_varying = NULL, label_episode = FALSE) \n",
       "{\n",
       "    if (any(cuts < 0)) \n",
       "        stop(\"negative time is not supported\")\n",
       "    x$n_dup <- kut(x[, duration], cuts, include.lowest = TRUE)\n",
       "    episode_labs <- levels(x$n_dup)\n",
       "    x <- unkount(x, n_dup)\n",
       "    x$n_dup <- NULL\n",
       "    episode <- gsub(\"[0-9]*\\\\.?(.*)\", \"\\\\1\", rownames(x), perl = TRUE)\n",
       "    episode[episode == \"\"] <- \"0\"\n",
       "    x$episode <- as.numeric(episode) + 1\n",
       "    x$t_start <- c(0, cuts)[x$episode]\n",
       "    x$t_end <- c(x$t_start[2L:nrow(x)], 0)\n",
       "    x$t_end[x$t_end == 0] <- x[, duration][x$t_end == 0]\n",
       "    x[, event] <- x[, event] * (x$t_end == x[, duration])\n",
       "    if (label_episode) \n",
       "        x$episode <- factor(x$episode, seq_along(episode_labs), \n",
       "            episode_labs)\n",
       "    x\n",
       "}\n",
       "```"
      ],
      "text/plain": [
       "function (x, duration, event, cuts, time_varying = NULL, label_episode = FALSE) \n",
       "{\n",
       "    if (any(cuts < 0)) \n",
       "        stop(\"negative time is not supported\")\n",
       "    x$n_dup <- kut(x[, duration], cuts, include.lowest = TRUE)\n",
       "    episode_labs <- levels(x$n_dup)\n",
       "    x <- unkount(x, n_dup)\n",
       "    x$n_dup <- NULL\n",
       "    episode <- gsub(\"[0-9]*\\\\.?(.*)\", \"\\\\1\", rownames(x), perl = TRUE)\n",
       "    episode[episode == \"\"] <- \"0\"\n",
       "    x$episode <- as.numeric(episode) + 1\n",
       "    x$t_start <- c(0, cuts)[x$episode]\n",
       "    x$t_end <- c(x$t_start[2L:nrow(x)], 0)\n",
       "    x$t_end[x$t_end == 0] <- x[, duration][x$t_end == 0]\n",
       "    x[, event] <- x[, event] * (x$t_end == x[, duration])\n",
       "    if (label_episode) \n",
       "        x$episode <- factor(x$episode, seq_along(episode_labs), \n",
       "            episode_labs)\n",
       "    x\n",
       "}\n",
       "<bytecode: 0x7fe687d45268>\n",
       "<environment: namespace:ktools>"
      ]
     },
     "metadata": {},
     "output_type": "display_data"
    }
   ],
   "source": [
    "ktools::surv_split"
   ]
  },
  {
   "cell_type": "code",
   "execution_count": 18,
   "metadata": {
    "vscode": {
     "languageId": "r"
    }
   },
   "outputs": [
    {
     "data": {
      "text/html": [
       "<table class=\"dataframe\">\n",
       "<caption>A data.frame: 6 × 16</caption>\n",
       "<thead>\n",
       "\t<tr><th></th><th scope=col>caseid</th><th scope=col>sex</th><th scope=col>dob_cmc</th><th scope=col>doi_cmc</th><th scope=col>eversex</th><th scope=col>first_sex_cmc</th><th scope=col>first_union_cmc</th><th scope=col>time_start</th><th scope=col>time_end</th><th scope=col>event</th><th scope=col>duration</th><th scope=col>episode</th><th scope=col>t_start</th><th scope=col>t_end</th><th scope=col>age_start</th><th scope=col>age_end</th></tr>\n",
       "\t<tr><th></th><th scope=col>&lt;chr&gt;</th><th scope=col>&lt;chr&gt;</th><th scope=col>&lt;int&gt;</th><th scope=col>&lt;int&gt;</th><th scope=col>&lt;lgl&gt;</th><th scope=col>&lt;dbl&gt;</th><th scope=col>&lt;int&gt;</th><th scope=col>&lt;dbl&gt;</th><th scope=col>&lt;dbl&gt;</th><th scope=col>&lt;int&gt;</th><th scope=col>&lt;dbl&gt;</th><th scope=col>&lt;dbl&gt;</th><th scope=col>&lt;dbl&gt;</th><th scope=col>&lt;dbl&gt;</th><th scope=col>&lt;dbl&gt;</th><th scope=col>&lt;dbl&gt;</th></tr>\n",
       "</thead>\n",
       "<tbody>\n",
       "\t<tr><th scope=row>1</th><td>       1  60  3</td><td>male</td><td>1138</td><td>1393</td><td>TRUE</td><td>1354</td><td>NA</td><td>1354</td><td>1360</td><td>0</td><td>6</td><td>1</td><td> 0</td><td> 6</td><td>216</td><td>222</td></tr>\n",
       "\t<tr><th scope=row>1.1</th><td>       1  60  3</td><td>male</td><td>1138</td><td>1393</td><td>TRUE</td><td>1354</td><td>NA</td><td>1360</td><td>1366</td><td>0</td><td>6</td><td>2</td><td> 6</td><td>12</td><td>222</td><td>228</td></tr>\n",
       "\t<tr><th scope=row>1.2</th><td>       1  60  3</td><td>male</td><td>1138</td><td>1393</td><td>TRUE</td><td>1354</td><td>NA</td><td>1366</td><td>1372</td><td>0</td><td>6</td><td>3</td><td>12</td><td>18</td><td>228</td><td>234</td></tr>\n",
       "\t<tr><th scope=row>1.3</th><td>       1  60  3</td><td>male</td><td>1138</td><td>1393</td><td>TRUE</td><td>1354</td><td>NA</td><td>1372</td><td>1378</td><td>0</td><td>6</td><td>4</td><td>18</td><td>24</td><td>234</td><td>240</td></tr>\n",
       "\t<tr><th scope=row>1.4</th><td>       1  60  3</td><td>male</td><td>1138</td><td>1393</td><td>TRUE</td><td>1354</td><td>NA</td><td>1378</td><td>1384</td><td>0</td><td>6</td><td>5</td><td>24</td><td>30</td><td>240</td><td>246</td></tr>\n",
       "\t<tr><th scope=row>1.5</th><td>       1  60  3</td><td>male</td><td>1138</td><td>1393</td><td>TRUE</td><td>1354</td><td>NA</td><td>1384</td><td>1390</td><td>0</td><td>6</td><td>6</td><td>30</td><td>36</td><td>246</td><td>252</td></tr>\n",
       "</tbody>\n",
       "</table>\n"
      ],
      "text/latex": [
       "A data.frame: 6 × 16\n",
       "\\begin{tabular}{r|llllllllllllllll}\n",
       "  & caseid & sex & dob\\_cmc & doi\\_cmc & eversex & first\\_sex\\_cmc & first\\_union\\_cmc & time\\_start & time\\_end & event & duration & episode & t\\_start & t\\_end & age\\_start & age\\_end\\\\\n",
       "  & <chr> & <chr> & <int> & <int> & <lgl> & <dbl> & <int> & <dbl> & <dbl> & <int> & <dbl> & <dbl> & <dbl> & <dbl> & <dbl> & <dbl>\\\\\n",
       "\\hline\n",
       "\t1 &        1  60  3 & male & 1138 & 1393 & TRUE & 1354 & NA & 1354 & 1360 & 0 & 6 & 1 &  0 &  6 & 216 & 222\\\\\n",
       "\t1.1 &        1  60  3 & male & 1138 & 1393 & TRUE & 1354 & NA & 1360 & 1366 & 0 & 6 & 2 &  6 & 12 & 222 & 228\\\\\n",
       "\t1.2 &        1  60  3 & male & 1138 & 1393 & TRUE & 1354 & NA & 1366 & 1372 & 0 & 6 & 3 & 12 & 18 & 228 & 234\\\\\n",
       "\t1.3 &        1  60  3 & male & 1138 & 1393 & TRUE & 1354 & NA & 1372 & 1378 & 0 & 6 & 4 & 18 & 24 & 234 & 240\\\\\n",
       "\t1.4 &        1  60  3 & male & 1138 & 1393 & TRUE & 1354 & NA & 1378 & 1384 & 0 & 6 & 5 & 24 & 30 & 240 & 246\\\\\n",
       "\t1.5 &        1  60  3 & male & 1138 & 1393 & TRUE & 1354 & NA & 1384 & 1390 & 0 & 6 & 6 & 30 & 36 & 246 & 252\\\\\n",
       "\\end{tabular}\n"
      ],
      "text/markdown": [
       "\n",
       "A data.frame: 6 × 16\n",
       "\n",
       "| <!--/--> | caseid &lt;chr&gt; | sex &lt;chr&gt; | dob_cmc &lt;int&gt; | doi_cmc &lt;int&gt; | eversex &lt;lgl&gt; | first_sex_cmc &lt;dbl&gt; | first_union_cmc &lt;int&gt; | time_start &lt;dbl&gt; | time_end &lt;dbl&gt; | event &lt;int&gt; | duration &lt;dbl&gt; | episode &lt;dbl&gt; | t_start &lt;dbl&gt; | t_end &lt;dbl&gt; | age_start &lt;dbl&gt; | age_end &lt;dbl&gt; |\n",
       "|---|---|---|---|---|---|---|---|---|---|---|---|---|---|---|---|---|\n",
       "| 1 |        1  60  3 | male | 1138 | 1393 | TRUE | 1354 | NA | 1354 | 1360 | 0 | 6 | 1 |  0 |  6 | 216 | 222 |\n",
       "| 1.1 |        1  60  3 | male | 1138 | 1393 | TRUE | 1354 | NA | 1360 | 1366 | 0 | 6 | 2 |  6 | 12 | 222 | 228 |\n",
       "| 1.2 |        1  60  3 | male | 1138 | 1393 | TRUE | 1354 | NA | 1366 | 1372 | 0 | 6 | 3 | 12 | 18 | 228 | 234 |\n",
       "| 1.3 |        1  60  3 | male | 1138 | 1393 | TRUE | 1354 | NA | 1372 | 1378 | 0 | 6 | 4 | 18 | 24 | 234 | 240 |\n",
       "| 1.4 |        1  60  3 | male | 1138 | 1393 | TRUE | 1354 | NA | 1378 | 1384 | 0 | 6 | 5 | 24 | 30 | 240 | 246 |\n",
       "| 1.5 |        1  60  3 | male | 1138 | 1393 | TRUE | 1354 | NA | 1384 | 1390 | 0 | 6 | 6 | 30 | 36 | 246 | 252 |\n",
       "\n"
      ],
      "text/plain": [
       "    caseid          sex  dob_cmc doi_cmc eversex first_sex_cmc first_union_cmc\n",
       "1          1  60  3 male 1138    1393    TRUE    1354          NA             \n",
       "1.1        1  60  3 male 1138    1393    TRUE    1354          NA             \n",
       "1.2        1  60  3 male 1138    1393    TRUE    1354          NA             \n",
       "1.3        1  60  3 male 1138    1393    TRUE    1354          NA             \n",
       "1.4        1  60  3 male 1138    1393    TRUE    1354          NA             \n",
       "1.5        1  60  3 male 1138    1393    TRUE    1354          NA             \n",
       "    time_start time_end event duration episode t_start t_end age_start age_end\n",
       "1   1354       1360     0     6        1        0       6    216       222    \n",
       "1.1 1360       1366     0     6        2        6      12    222       228    \n",
       "1.2 1366       1372     0     6        3       12      18    228       234    \n",
       "1.3 1372       1378     0     6        4       18      24    234       240    \n",
       "1.4 1378       1384     0     6        5       24      30    240       246    \n",
       "1.5 1384       1390     0     6        6       30      36    246       252    "
      ]
     },
     "metadata": {},
     "output_type": "display_data"
    }
   ],
   "source": [
    "ts <- readRDS(here::here(\"data/marriage_epis_durspl.rds\"))\n",
    "ts %>% head()"
   ]
  },
  {
   "cell_type": "markdown",
   "metadata": {},
   "source": [
    "# Assumptions"
   ]
  },
  {
   "cell_type": "code",
   "execution_count": 8,
   "metadata": {
    "vscode": {
     "languageId": "r"
    }
   },
   "outputs": [
    {
     "name": "stdout",
     "output_type": "stream",
     "text": [
      "          virgin debut married separated divorced widowed remarried\n",
      "virgin        -2     1       1         0        0       0         0\n",
      "debut          0    -1       1         0        0       0         0\n",
      "married        0     0      -3         1        1       1         0\n",
      "separated      0     0       0        -1        0       0         1\n",
      "divorced       0     0       0         0       -1       0         1\n",
      "widowed        0     0       0         0        0      -1         1\n",
      "remarried      0     0       0         1        1       1        -3\n"
     ]
    }
   ],
   "source": [
    "states <- char(virgin, debut, married, separated, divorced, widowed,remarried)\n",
    "rbind(\n",
    "    c(-2, 1, 1, 0, 0, 0, 0),\n",
    "    c(0, -1, 1, 0, 0, 0, 0),\n",
    "    c(0, 0, -3, 1, 1, 1, 0),\n",
    "    c(0, 0, 0, -1, 0, 0, 1),\n",
    "    c(0, 0, 0, 0, -1, 0, 1),\n",
    "    c(0, 0, 0, 0, 0, -1, 1),\n",
    "    c(0, 0, 0, 1, 1, 1, -3)\n",
    ") %>%\n",
    "    as.matrix() %>%\n",
    "    set_colnames(states) %>%\n",
    "    set_rownames(states) %>% print()"
   ]
  },
  {
   "cell_type": "markdown",
   "metadata": {},
   "source": [
    "# Simplest data"
   ]
  },
  {
   "cell_type": "code",
   "execution_count": 9,
   "metadata": {
    "vscode": {
     "languageId": "r"
    }
   },
   "outputs": [],
   "source": [
    "ir <- readRDS('~/ir.rds')"
   ]
  },
  {
   "cell_type": "code",
   "execution_count": 10,
   "metadata": {
    "vscode": {
     "languageId": "r"
    }
   },
   "outputs": [
    {
     "data": {
      "text/html": [
       "<table class=\"dataframe\">\n",
       "<caption>A data.frame: 6 × 2</caption>\n",
       "<thead>\n",
       "\t<tr><th scope=col>marital_status</th><th scope=col>n</th></tr>\n",
       "\t<tr><th scope=col>&lt;fct&gt;</th><th scope=col>&lt;int&gt;</th></tr>\n",
       "</thead>\n",
       "<tbody>\n",
       "\t<tr><td>never married      </td><td>2284</td></tr>\n",
       "\t<tr><td>married            </td><td>9155</td></tr>\n",
       "\t<tr><td>living together    </td><td> 206</td></tr>\n",
       "\t<tr><td>widowed            </td><td> 486</td></tr>\n",
       "\t<tr><td>divorced           </td><td> 622</td></tr>\n",
       "\t<tr><td>not living together</td><td> 467</td></tr>\n",
       "</tbody>\n",
       "</table>\n"
      ],
      "text/latex": [
       "A data.frame: 6 × 2\n",
       "\\begin{tabular}{ll}\n",
       " marital\\_status & n\\\\\n",
       " <fct> & <int>\\\\\n",
       "\\hline\n",
       "\t never married       & 2284\\\\\n",
       "\t married             & 9155\\\\\n",
       "\t living together     &  206\\\\\n",
       "\t widowed             &  486\\\\\n",
       "\t divorced            &  622\\\\\n",
       "\t not living together &  467\\\\\n",
       "\\end{tabular}\n"
      ],
      "text/markdown": [
       "\n",
       "A data.frame: 6 × 2\n",
       "\n",
       "| marital_status &lt;fct&gt; | n &lt;int&gt; |\n",
       "|---|---|\n",
       "| never married       | 2284 |\n",
       "| married             | 9155 |\n",
       "| living together     |  206 |\n",
       "| widowed             |  486 |\n",
       "| divorced            |  622 |\n",
       "| not living together |  467 |\n",
       "\n"
      ],
      "text/plain": [
       "  marital_status      n   \n",
       "1 never married       2284\n",
       "2 married             9155\n",
       "3 living together      206\n",
       "4 widowed              486\n",
       "5 divorced             622\n",
       "6 not living together  467"
      ]
     },
     "metadata": {},
     "output_type": "display_data"
    },
    {
     "name": "stdout",
     "output_type": "stream",
     "text": [
      "  unions    n\n",
      "1      1 8084\n",
      "2      2 2837\n",
      "3      9   15\n",
      "4     NA 2284\n"
     ]
    }
   ],
   "source": [
    "df <- ir %>%\n",
    "  transmute(\n",
    "    caseid, \n",
    "    dob_cmc = v011,\n",
    "    doi_cmc = v008,\n",
    "    unions = v503,\n",
    "    afs = v531,\n",
    "    marital_status = as_factor(v501),\n",
    "    marriage_age = v511,\n",
    "  )\n",
    "\n",
    "df %>% count(marital_status)\n",
    "df %>% count(unions) %>% print"
   ]
  },
  {
   "cell_type": "markdown",
   "metadata": {},
   "source": [
    "Put into `msm` format\n",
    "\n",
    "- never had sex individual has two records: zero and current age both in state virgin??"
   ]
  },
  {
   "cell_type": "code",
   "execution_count": 9,
   "metadata": {
    "vscode": {
     "languageId": "r"
    }
   },
   "outputs": [
    {
     "data": {
      "text/html": [
       "<table class=\"dataframe\">\n",
       "<caption>A tibble: 30 × 13</caption>\n",
       "<thead>\n",
       "\t<tr><th scope=col>id</th><th scope=col>age</th><th scope=col>afs</th><th scope=col>aam</th><th scope=col>current</th><th scope=col>unions</th><th scope=col>S_born</th><th scope=col>S_virgin</th><th scope=col>S_debut</th><th scope=col>S_married</th><th scope=col>S_divorced</th><th scope=col>S_widowed</th><th scope=col>S_separated</th></tr>\n",
       "\t<tr><th scope=col>&lt;chr&gt;</th><th scope=col>&lt;dbl&gt;</th><th scope=col>&lt;dbl&gt;</th><th scope=col>&lt;dbl&gt;</th><th scope=col>&lt;fct&gt;</th><th scope=col>&lt;int+lbl&gt;</th><th scope=col>&lt;dbl&gt;</th><th scope=col>&lt;dbl&gt;</th><th scope=col>&lt;dbl&gt;</th><th scope=col>&lt;dbl&gt;</th><th scope=col>&lt;dbl&gt;</th><th scope=col>&lt;dbl&gt;</th><th scope=col>&lt;dbl&gt;</th></tr>\n",
       "</thead>\n",
       "<tbody>\n",
       "\t<tr><td>      1001 1  4</td><td>16.91667</td><td> 0</td><td>NA</td><td>never married</td><td>NA</td><td>0</td><td>16.91667</td><td>NA</td><td>NA</td><td>      NA</td><td>  NA</td><td>NA</td></tr>\n",
       "\t<tr><td>      1001 5  1</td><td>36.16667</td><td>NA</td><td>15</td><td>divorced     </td><td> 2</td><td>0</td><td>      NA</td><td>NA</td><td>15</td><td>36.16667</td><td>  NA</td><td>NA</td></tr>\n",
       "\t<tr><td>      1001 6  2</td><td>26.08333</td><td>NA</td><td>14</td><td>married      </td><td> 1</td><td>0</td><td>      NA</td><td>NA</td><td>14</td><td>      NA</td><td>  NA</td><td>NA</td></tr>\n",
       "\t<tr><td>      1001 7  2</td><td>30.58333</td><td>NA</td><td>17</td><td>married      </td><td> 1</td><td>0</td><td>      NA</td><td>NA</td><td>17</td><td>      NA</td><td>  NA</td><td>NA</td></tr>\n",
       "\t<tr><td>      1001 9  2</td><td>24.25000</td><td>NA</td><td>19</td><td>married      </td><td> 1</td><td>0</td><td>      NA</td><td>NA</td><td>19</td><td>      NA</td><td>  NA</td><td>NA</td></tr>\n",
       "\t<tr><td>      100110  2</td><td>32.33333</td><td>NA</td><td>18</td><td>married      </td><td> 1</td><td>0</td><td>      NA</td><td>NA</td><td>18</td><td>      NA</td><td>  NA</td><td>NA</td></tr>\n",
       "\t<tr><td>      100111  1</td><td>27.50000</td><td>NA</td><td>17</td><td>married      </td><td> 1</td><td>0</td><td>      NA</td><td>NA</td><td>17</td><td>      NA</td><td>  NA</td><td>NA</td></tr>\n",
       "\t<tr><td>      100112  2</td><td>21.08333</td><td>NA</td><td>14</td><td>married      </td><td> 1</td><td>0</td><td>      NA</td><td>NA</td><td>14</td><td>      NA</td><td>  NA</td><td>NA</td></tr>\n",
       "\t<tr><td>      100114  3</td><td>26.91667</td><td>NA</td><td>15</td><td>married      </td><td> 1</td><td>0</td><td>      NA</td><td>NA</td><td>15</td><td>      NA</td><td>  NA</td><td>NA</td></tr>\n",
       "\t<tr><td>      100115  1</td><td>47.00000</td><td>14</td><td>18</td><td>married      </td><td> 1</td><td>0</td><td>      NA</td><td>14</td><td>18</td><td>      NA</td><td>  NA</td><td>NA</td></tr>\n",
       "\t<tr><td>      100115  2</td><td>16.00000</td><td> 0</td><td>NA</td><td>never married</td><td>NA</td><td>0</td><td>16.00000</td><td>NA</td><td>NA</td><td>      NA</td><td>  NA</td><td>NA</td></tr>\n",
       "\t<tr><td>      100116  2</td><td>20.25000</td><td>NA</td><td>19</td><td>married      </td><td> 1</td><td>0</td><td>      NA</td><td>NA</td><td>19</td><td>      NA</td><td>  NA</td><td>NA</td></tr>\n",
       "\t<tr><td>      100117  2</td><td>23.41667</td><td>NA</td><td>15</td><td>married      </td><td> 1</td><td>0</td><td>      NA</td><td>NA</td><td>15</td><td>      NA</td><td>  NA</td><td>NA</td></tr>\n",
       "\t<tr><td>      100118  2</td><td>20.25000</td><td>NA</td><td>13</td><td>married      </td><td> 2</td><td>0</td><td>      NA</td><td>NA</td><td>13</td><td>      NA</td><td>  NA</td><td>NA</td></tr>\n",
       "\t<tr><td>      100119  3</td><td>20.16667</td><td> 0</td><td>NA</td><td>never married</td><td>NA</td><td>0</td><td>20.16667</td><td>NA</td><td>NA</td><td>      NA</td><td>  NA</td><td>NA</td></tr>\n",
       "\t<tr><td>      100119  4</td><td>18.33333</td><td> 0</td><td>NA</td><td>never married</td><td>NA</td><td>0</td><td>18.33333</td><td>NA</td><td>NA</td><td>      NA</td><td>  NA</td><td>NA</td></tr>\n",
       "\t<tr><td>      100120  2</td><td>26.16667</td><td>NA</td><td>17</td><td>married      </td><td> 1</td><td>0</td><td>      NA</td><td>NA</td><td>17</td><td>      NA</td><td>  NA</td><td>NA</td></tr>\n",
       "\t<tr><td>      100121  2</td><td>28.41667</td><td>NA</td><td>18</td><td>married      </td><td> 1</td><td>0</td><td>      NA</td><td>NA</td><td>18</td><td>      NA</td><td>  NA</td><td>NA</td></tr>\n",
       "\t<tr><td>      100122  2</td><td>20.66667</td><td>NA</td><td>17</td><td>married      </td><td> 1</td><td>0</td><td>      NA</td><td>NA</td><td>17</td><td>      NA</td><td>  NA</td><td>NA</td></tr>\n",
       "\t<tr><td>      100123  4</td><td>24.16667</td><td>NA</td><td>16</td><td>married      </td><td> 1</td><td>0</td><td>      NA</td><td>NA</td><td>16</td><td>      NA</td><td>  NA</td><td>NA</td></tr>\n",
       "\t<tr><td>      100123  5</td><td>21.08333</td><td>NA</td><td>16</td><td>married      </td><td> 1</td><td>0</td><td>      NA</td><td>NA</td><td>16</td><td>      NA</td><td>  NA</td><td>NA</td></tr>\n",
       "\t<tr><td>      100123  6</td><td>20.25000</td><td>NA</td><td>16</td><td>married      </td><td> 1</td><td>0</td><td>      NA</td><td>NA</td><td>16</td><td>      NA</td><td>  NA</td><td>NA</td></tr>\n",
       "\t<tr><td>      100124  2</td><td>20.33333</td><td>NA</td><td>17</td><td>married      </td><td> 1</td><td>0</td><td>      NA</td><td>NA</td><td>17</td><td>      NA</td><td>  NA</td><td>NA</td></tr>\n",
       "\t<tr><td>      1002 1  1</td><td>22.25000</td><td>NA</td><td>20</td><td>married      </td><td> 1</td><td>0</td><td>      NA</td><td>NA</td><td>20</td><td>      NA</td><td>  NA</td><td>NA</td></tr>\n",
       "\t<tr><td>      1002 2  8</td><td>15.25000</td><td> 0</td><td>NA</td><td>never married</td><td>NA</td><td>0</td><td>15.25000</td><td>NA</td><td>NA</td><td>      NA</td><td>  NA</td><td>NA</td></tr>\n",
       "\t<tr><td>      1002 2 14</td><td>34.50000</td><td>NA</td><td>17</td><td>widowed      </td><td> 1</td><td>0</td><td>      NA</td><td>NA</td><td>17</td><td>      NA</td><td>34.5</td><td>NA</td></tr>\n",
       "\t<tr><td>      1002 3  1</td><td>37.08333</td><td>15</td><td>16</td><td>divorced     </td><td> 1</td><td>0</td><td>      NA</td><td>15</td><td>16</td><td>37.08333</td><td>  NA</td><td>NA</td></tr>\n",
       "\t<tr><td>      1002 3  2</td><td>19.50000</td><td>NA</td><td>14</td><td>married      </td><td> 1</td><td>0</td><td>      NA</td><td>NA</td><td>14</td><td>      NA</td><td>  NA</td><td>NA</td></tr>\n",
       "\t<tr><td>      1002 4  2</td><td>25.58333</td><td>NA</td><td>19</td><td>married      </td><td> 1</td><td>0</td><td>      NA</td><td>NA</td><td>19</td><td>      NA</td><td>  NA</td><td>NA</td></tr>\n",
       "\t<tr><td>      1002 7  2</td><td>31.25000</td><td>NA</td><td>13</td><td>married      </td><td> 1</td><td>0</td><td>      NA</td><td>NA</td><td>13</td><td>      NA</td><td>  NA</td><td>NA</td></tr>\n",
       "</tbody>\n",
       "</table>\n"
      ],
      "text/latex": [
       "A tibble: 30 × 13\n",
       "\\begin{tabular}{lllllllllllll}\n",
       " id & age & afs & aam & current & unions & S\\_born & S\\_virgin & S\\_debut & S\\_married & S\\_divorced & S\\_widowed & S\\_separated\\\\\n",
       " <chr> & <dbl> & <dbl> & <dbl> & <fct> & <int+lbl> & <dbl> & <dbl> & <dbl> & <dbl> & <dbl> & <dbl> & <dbl>\\\\\n",
       "\\hline\n",
       "\t       1001 1  4 & 16.91667 &  0 & NA & never married & NA & 0 & 16.91667 & NA & NA &       NA &   NA & NA\\\\\n",
       "\t       1001 5  1 & 36.16667 & NA & 15 & divorced      &  2 & 0 &       NA & NA & 15 & 36.16667 &   NA & NA\\\\\n",
       "\t       1001 6  2 & 26.08333 & NA & 14 & married       &  1 & 0 &       NA & NA & 14 &       NA &   NA & NA\\\\\n",
       "\t       1001 7  2 & 30.58333 & NA & 17 & married       &  1 & 0 &       NA & NA & 17 &       NA &   NA & NA\\\\\n",
       "\t       1001 9  2 & 24.25000 & NA & 19 & married       &  1 & 0 &       NA & NA & 19 &       NA &   NA & NA\\\\\n",
       "\t       100110  2 & 32.33333 & NA & 18 & married       &  1 & 0 &       NA & NA & 18 &       NA &   NA & NA\\\\\n",
       "\t       100111  1 & 27.50000 & NA & 17 & married       &  1 & 0 &       NA & NA & 17 &       NA &   NA & NA\\\\\n",
       "\t       100112  2 & 21.08333 & NA & 14 & married       &  1 & 0 &       NA & NA & 14 &       NA &   NA & NA\\\\\n",
       "\t       100114  3 & 26.91667 & NA & 15 & married       &  1 & 0 &       NA & NA & 15 &       NA &   NA & NA\\\\\n",
       "\t       100115  1 & 47.00000 & 14 & 18 & married       &  1 & 0 &       NA & 14 & 18 &       NA &   NA & NA\\\\\n",
       "\t       100115  2 & 16.00000 &  0 & NA & never married & NA & 0 & 16.00000 & NA & NA &       NA &   NA & NA\\\\\n",
       "\t       100116  2 & 20.25000 & NA & 19 & married       &  1 & 0 &       NA & NA & 19 &       NA &   NA & NA\\\\\n",
       "\t       100117  2 & 23.41667 & NA & 15 & married       &  1 & 0 &       NA & NA & 15 &       NA &   NA & NA\\\\\n",
       "\t       100118  2 & 20.25000 & NA & 13 & married       &  2 & 0 &       NA & NA & 13 &       NA &   NA & NA\\\\\n",
       "\t       100119  3 & 20.16667 &  0 & NA & never married & NA & 0 & 20.16667 & NA & NA &       NA &   NA & NA\\\\\n",
       "\t       100119  4 & 18.33333 &  0 & NA & never married & NA & 0 & 18.33333 & NA & NA &       NA &   NA & NA\\\\\n",
       "\t       100120  2 & 26.16667 & NA & 17 & married       &  1 & 0 &       NA & NA & 17 &       NA &   NA & NA\\\\\n",
       "\t       100121  2 & 28.41667 & NA & 18 & married       &  1 & 0 &       NA & NA & 18 &       NA &   NA & NA\\\\\n",
       "\t       100122  2 & 20.66667 & NA & 17 & married       &  1 & 0 &       NA & NA & 17 &       NA &   NA & NA\\\\\n",
       "\t       100123  4 & 24.16667 & NA & 16 & married       &  1 & 0 &       NA & NA & 16 &       NA &   NA & NA\\\\\n",
       "\t       100123  5 & 21.08333 & NA & 16 & married       &  1 & 0 &       NA & NA & 16 &       NA &   NA & NA\\\\\n",
       "\t       100123  6 & 20.25000 & NA & 16 & married       &  1 & 0 &       NA & NA & 16 &       NA &   NA & NA\\\\\n",
       "\t       100124  2 & 20.33333 & NA & 17 & married       &  1 & 0 &       NA & NA & 17 &       NA &   NA & NA\\\\\n",
       "\t       1002 1  1 & 22.25000 & NA & 20 & married       &  1 & 0 &       NA & NA & 20 &       NA &   NA & NA\\\\\n",
       "\t       1002 2  8 & 15.25000 &  0 & NA & never married & NA & 0 & 15.25000 & NA & NA &       NA &   NA & NA\\\\\n",
       "\t       1002 2 14 & 34.50000 & NA & 17 & widowed       &  1 & 0 &       NA & NA & 17 &       NA & 34.5 & NA\\\\\n",
       "\t       1002 3  1 & 37.08333 & 15 & 16 & divorced      &  1 & 0 &       NA & 15 & 16 & 37.08333 &   NA & NA\\\\\n",
       "\t       1002 3  2 & 19.50000 & NA & 14 & married       &  1 & 0 &       NA & NA & 14 &       NA &   NA & NA\\\\\n",
       "\t       1002 4  2 & 25.58333 & NA & 19 & married       &  1 & 0 &       NA & NA & 19 &       NA &   NA & NA\\\\\n",
       "\t       1002 7  2 & 31.25000 & NA & 13 & married       &  1 & 0 &       NA & NA & 13 &       NA &   NA & NA\\\\\n",
       "\\end{tabular}\n"
      ],
      "text/markdown": [
       "\n",
       "A tibble: 30 × 13\n",
       "\n",
       "| id &lt;chr&gt; | age &lt;dbl&gt; | afs &lt;dbl&gt; | aam &lt;dbl&gt; | current &lt;fct&gt; | unions &lt;int+lbl&gt; | S_born &lt;dbl&gt; | S_virgin &lt;dbl&gt; | S_debut &lt;dbl&gt; | S_married &lt;dbl&gt; | S_divorced &lt;dbl&gt; | S_widowed &lt;dbl&gt; | S_separated &lt;dbl&gt; |\n",
       "|---|---|---|---|---|---|---|---|---|---|---|---|---|\n",
       "|       1001 1  4 | 16.91667 |  0 | NA | never married | NA | 0 | 16.91667 | NA | NA |       NA |   NA | NA |\n",
       "|       1001 5  1 | 36.16667 | NA | 15 | divorced      |  2 | 0 |       NA | NA | 15 | 36.16667 |   NA | NA |\n",
       "|       1001 6  2 | 26.08333 | NA | 14 | married       |  1 | 0 |       NA | NA | 14 |       NA |   NA | NA |\n",
       "|       1001 7  2 | 30.58333 | NA | 17 | married       |  1 | 0 |       NA | NA | 17 |       NA |   NA | NA |\n",
       "|       1001 9  2 | 24.25000 | NA | 19 | married       |  1 | 0 |       NA | NA | 19 |       NA |   NA | NA |\n",
       "|       100110  2 | 32.33333 | NA | 18 | married       |  1 | 0 |       NA | NA | 18 |       NA |   NA | NA |\n",
       "|       100111  1 | 27.50000 | NA | 17 | married       |  1 | 0 |       NA | NA | 17 |       NA |   NA | NA |\n",
       "|       100112  2 | 21.08333 | NA | 14 | married       |  1 | 0 |       NA | NA | 14 |       NA |   NA | NA |\n",
       "|       100114  3 | 26.91667 | NA | 15 | married       |  1 | 0 |       NA | NA | 15 |       NA |   NA | NA |\n",
       "|       100115  1 | 47.00000 | 14 | 18 | married       |  1 | 0 |       NA | 14 | 18 |       NA |   NA | NA |\n",
       "|       100115  2 | 16.00000 |  0 | NA | never married | NA | 0 | 16.00000 | NA | NA |       NA |   NA | NA |\n",
       "|       100116  2 | 20.25000 | NA | 19 | married       |  1 | 0 |       NA | NA | 19 |       NA |   NA | NA |\n",
       "|       100117  2 | 23.41667 | NA | 15 | married       |  1 | 0 |       NA | NA | 15 |       NA |   NA | NA |\n",
       "|       100118  2 | 20.25000 | NA | 13 | married       |  2 | 0 |       NA | NA | 13 |       NA |   NA | NA |\n",
       "|       100119  3 | 20.16667 |  0 | NA | never married | NA | 0 | 20.16667 | NA | NA |       NA |   NA | NA |\n",
       "|       100119  4 | 18.33333 |  0 | NA | never married | NA | 0 | 18.33333 | NA | NA |       NA |   NA | NA |\n",
       "|       100120  2 | 26.16667 | NA | 17 | married       |  1 | 0 |       NA | NA | 17 |       NA |   NA | NA |\n",
       "|       100121  2 | 28.41667 | NA | 18 | married       |  1 | 0 |       NA | NA | 18 |       NA |   NA | NA |\n",
       "|       100122  2 | 20.66667 | NA | 17 | married       |  1 | 0 |       NA | NA | 17 |       NA |   NA | NA |\n",
       "|       100123  4 | 24.16667 | NA | 16 | married       |  1 | 0 |       NA | NA | 16 |       NA |   NA | NA |\n",
       "|       100123  5 | 21.08333 | NA | 16 | married       |  1 | 0 |       NA | NA | 16 |       NA |   NA | NA |\n",
       "|       100123  6 | 20.25000 | NA | 16 | married       |  1 | 0 |       NA | NA | 16 |       NA |   NA | NA |\n",
       "|       100124  2 | 20.33333 | NA | 17 | married       |  1 | 0 |       NA | NA | 17 |       NA |   NA | NA |\n",
       "|       1002 1  1 | 22.25000 | NA | 20 | married       |  1 | 0 |       NA | NA | 20 |       NA |   NA | NA |\n",
       "|       1002 2  8 | 15.25000 |  0 | NA | never married | NA | 0 | 15.25000 | NA | NA |       NA |   NA | NA |\n",
       "|       1002 2 14 | 34.50000 | NA | 17 | widowed       |  1 | 0 |       NA | NA | 17 |       NA | 34.5 | NA |\n",
       "|       1002 3  1 | 37.08333 | 15 | 16 | divorced      |  1 | 0 |       NA | 15 | 16 | 37.08333 |   NA | NA |\n",
       "|       1002 3  2 | 19.50000 | NA | 14 | married       |  1 | 0 |       NA | NA | 14 |       NA |   NA | NA |\n",
       "|       1002 4  2 | 25.58333 | NA | 19 | married       |  1 | 0 |       NA | NA | 19 |       NA |   NA | NA |\n",
       "|       1002 7  2 | 31.25000 | NA | 13 | married       |  1 | 0 |       NA | NA | 13 |       NA |   NA | NA |\n",
       "\n"
      ],
      "text/plain": [
       "   id              age      afs aam current       unions S_born S_virgin\n",
       "1        1001 1  4 16.91667  0  NA  never married NA     0      16.91667\n",
       "2        1001 5  1 36.16667 NA  15  divorced       2     0            NA\n",
       "3        1001 6  2 26.08333 NA  14  married        1     0            NA\n",
       "4        1001 7  2 30.58333 NA  17  married        1     0            NA\n",
       "5        1001 9  2 24.25000 NA  19  married        1     0            NA\n",
       "6        100110  2 32.33333 NA  18  married        1     0            NA\n",
       "7        100111  1 27.50000 NA  17  married        1     0            NA\n",
       "8        100112  2 21.08333 NA  14  married        1     0            NA\n",
       "9        100114  3 26.91667 NA  15  married        1     0            NA\n",
       "10       100115  1 47.00000 14  18  married        1     0            NA\n",
       "11       100115  2 16.00000  0  NA  never married NA     0      16.00000\n",
       "12       100116  2 20.25000 NA  19  married        1     0            NA\n",
       "13       100117  2 23.41667 NA  15  married        1     0            NA\n",
       "14       100118  2 20.25000 NA  13  married        2     0            NA\n",
       "15       100119  3 20.16667  0  NA  never married NA     0      20.16667\n",
       "16       100119  4 18.33333  0  NA  never married NA     0      18.33333\n",
       "17       100120  2 26.16667 NA  17  married        1     0            NA\n",
       "18       100121  2 28.41667 NA  18  married        1     0            NA\n",
       "19       100122  2 20.66667 NA  17  married        1     0            NA\n",
       "20       100123  4 24.16667 NA  16  married        1     0            NA\n",
       "21       100123  5 21.08333 NA  16  married        1     0            NA\n",
       "22       100123  6 20.25000 NA  16  married        1     0            NA\n",
       "23       100124  2 20.33333 NA  17  married        1     0            NA\n",
       "24       1002 1  1 22.25000 NA  20  married        1     0            NA\n",
       "25       1002 2  8 15.25000  0  NA  never married NA     0      15.25000\n",
       "26       1002 2 14 34.50000 NA  17  widowed        1     0            NA\n",
       "27       1002 3  1 37.08333 15  16  divorced       1     0            NA\n",
       "28       1002 3  2 19.50000 NA  14  married        1     0            NA\n",
       "29       1002 4  2 25.58333 NA  19  married        1     0            NA\n",
       "30       1002 7  2 31.25000 NA  13  married        1     0            NA\n",
       "   S_debut S_married S_divorced S_widowed S_separated\n",
       "1  NA      NA              NA     NA      NA         \n",
       "2  NA      15        36.16667     NA      NA         \n",
       "3  NA      14              NA     NA      NA         \n",
       "4  NA      17              NA     NA      NA         \n",
       "5  NA      19              NA     NA      NA         \n",
       "6  NA      18              NA     NA      NA         \n",
       "7  NA      17              NA     NA      NA         \n",
       "8  NA      14              NA     NA      NA         \n",
       "9  NA      15              NA     NA      NA         \n",
       "10 14      18              NA     NA      NA         \n",
       "11 NA      NA              NA     NA      NA         \n",
       "12 NA      19              NA     NA      NA         \n",
       "13 NA      15              NA     NA      NA         \n",
       "14 NA      13              NA     NA      NA         \n",
       "15 NA      NA              NA     NA      NA         \n",
       "16 NA      NA              NA     NA      NA         \n",
       "17 NA      17              NA     NA      NA         \n",
       "18 NA      18              NA     NA      NA         \n",
       "19 NA      17              NA     NA      NA         \n",
       "20 NA      16              NA     NA      NA         \n",
       "21 NA      16              NA     NA      NA         \n",
       "22 NA      16              NA     NA      NA         \n",
       "23 NA      17              NA     NA      NA         \n",
       "24 NA      20              NA     NA      NA         \n",
       "25 NA      NA              NA     NA      NA         \n",
       "26 NA      17              NA   34.5      NA         \n",
       "27 15      16        37.08333     NA      NA         \n",
       "28 NA      14              NA     NA      NA         \n",
       "29 NA      19              NA     NA      NA         \n",
       "30 NA      13              NA     NA      NA         "
      ]
     },
     "metadata": {},
     "output_type": "display_data"
    }
   ],
   "source": [
    "df %>%\n",
    "  as_tibble() %>%\n",
    "  mutate(age = (doi_cmc - dob_cmc) / 12) %>%\n",
    "  select(\n",
    "    id = caseid,\n",
    "    age, afs, \n",
    "    aam = marriage_age, \n",
    "    current = marital_status,\n",
    "    unions\n",
    "  ) %>% \n",
    "  filter(afs < 97) %>%\n",
    "  mutate(\n",
    "    afs = as.numeric(afs), \n",
    "    aam = as.numeric(aam),\n",
    "    afs = if_else(afs != 0 & afs >= aam, NA_real_, afs), # let them move virgin > married \n",
    "    S_born = 0,\n",
    "    S_virgin = if_else(afs == 0 | (is.na(afs) & current == 'never married'), age, NA_real_),\n",
    "    S_debut = if_else(afs > 0, afs, NA_real_),\n",
    "    S_married = aam,\n",
    "    S_divorced = if_else(current == \"divorced\", age, NA_real_),\n",
    "    S_widowed = if_else(current == \"widowed\", age, NA_real_),\n",
    "    S_separated = if_else(current == \"not living together\", age, NA_real_)\n",
    "  ) %>%\n",
    "  allot(msm_wide)\n",
    "msm_wide %>% head(30)"
   ]
  },
  {
   "cell_type": "code",
   "execution_count": 13,
   "metadata": {
    "vscode": {
     "languageId": "r"
    }
   },
   "outputs": [
    {
     "data": {
      "text/html": [
       "<table class=\"dataframe\">\n",
       "<caption>A tibble: 30 × 6</caption>\n",
       "<thead>\n",
       "\t<tr><th scope=col>id</th><th scope=col>age</th><th scope=col>unions</th><th scope=col>state</th><th scope=col>time</th><th scope=col>staten</th></tr>\n",
       "\t<tr><th scope=col>&lt;chr&gt;</th><th scope=col>&lt;dbl&gt;</th><th scope=col>&lt;int+lbl&gt;</th><th scope=col>&lt;fct&gt;</th><th scope=col>&lt;dbl&gt;</th><th scope=col>&lt;dbl&gt;</th></tr>\n",
       "</thead>\n",
       "<tbody>\n",
       "\t<tr><td>      1001 5  1</td><td>36.16667</td><td>2</td><td>virgin  </td><td> 0.00000</td><td>1</td></tr>\n",
       "\t<tr><td>      1001 5  1</td><td>36.16667</td><td>2</td><td>married </td><td>15.00000</td><td>3</td></tr>\n",
       "\t<tr><td>      1001 5  1</td><td>36.16667</td><td>2</td><td>divorced</td><td>36.16667</td><td>5</td></tr>\n",
       "\t<tr><td>      1001 6  2</td><td>26.08333</td><td>1</td><td>virgin  </td><td> 0.00000</td><td>1</td></tr>\n",
       "\t<tr><td>      1001 6  2</td><td>26.08333</td><td>1</td><td>married </td><td>14.00000</td><td>3</td></tr>\n",
       "\t<tr><td>      1001 7  2</td><td>30.58333</td><td>1</td><td>virgin  </td><td> 0.00000</td><td>1</td></tr>\n",
       "\t<tr><td>      1001 7  2</td><td>30.58333</td><td>1</td><td>married </td><td>17.00000</td><td>3</td></tr>\n",
       "\t<tr><td>      1001 9  2</td><td>24.25000</td><td>1</td><td>virgin  </td><td> 0.00000</td><td>1</td></tr>\n",
       "\t<tr><td>      1001 9  2</td><td>24.25000</td><td>1</td><td>married </td><td>19.00000</td><td>3</td></tr>\n",
       "\t<tr><td>      100110  2</td><td>32.33333</td><td>1</td><td>virgin  </td><td> 0.00000</td><td>1</td></tr>\n",
       "\t<tr><td>      100110  2</td><td>32.33333</td><td>1</td><td>married </td><td>18.00000</td><td>3</td></tr>\n",
       "\t<tr><td>      100111  1</td><td>27.50000</td><td>1</td><td>virgin  </td><td> 0.00000</td><td>1</td></tr>\n",
       "\t<tr><td>      100111  1</td><td>27.50000</td><td>1</td><td>married </td><td>17.00000</td><td>3</td></tr>\n",
       "\t<tr><td>      100112  2</td><td>21.08333</td><td>1</td><td>virgin  </td><td> 0.00000</td><td>1</td></tr>\n",
       "\t<tr><td>      100112  2</td><td>21.08333</td><td>1</td><td>married </td><td>14.00000</td><td>3</td></tr>\n",
       "\t<tr><td>      100114  3</td><td>26.91667</td><td>1</td><td>virgin  </td><td> 0.00000</td><td>1</td></tr>\n",
       "\t<tr><td>      100114  3</td><td>26.91667</td><td>1</td><td>married </td><td>15.00000</td><td>3</td></tr>\n",
       "\t<tr><td>      100115  1</td><td>47.00000</td><td>1</td><td>virgin  </td><td> 0.00000</td><td>1</td></tr>\n",
       "\t<tr><td>      100115  1</td><td>47.00000</td><td>1</td><td>debut   </td><td>14.00000</td><td>2</td></tr>\n",
       "\t<tr><td>      100115  1</td><td>47.00000</td><td>1</td><td>married </td><td>18.00000</td><td>3</td></tr>\n",
       "\t<tr><td>      100116  2</td><td>20.25000</td><td>1</td><td>virgin  </td><td> 0.00000</td><td>1</td></tr>\n",
       "\t<tr><td>      100116  2</td><td>20.25000</td><td>1</td><td>married </td><td>19.00000</td><td>3</td></tr>\n",
       "\t<tr><td>      100117  2</td><td>23.41667</td><td>1</td><td>virgin  </td><td> 0.00000</td><td>1</td></tr>\n",
       "\t<tr><td>      100117  2</td><td>23.41667</td><td>1</td><td>married </td><td>15.00000</td><td>3</td></tr>\n",
       "\t<tr><td>      100118  2</td><td>20.25000</td><td>2</td><td>virgin  </td><td> 0.00000</td><td>1</td></tr>\n",
       "\t<tr><td>      100118  2</td><td>20.25000</td><td>2</td><td>married </td><td>13.00000</td><td>3</td></tr>\n",
       "\t<tr><td>      100120  2</td><td>26.16667</td><td>1</td><td>virgin  </td><td> 0.00000</td><td>1</td></tr>\n",
       "\t<tr><td>      100120  2</td><td>26.16667</td><td>1</td><td>married </td><td>17.00000</td><td>3</td></tr>\n",
       "\t<tr><td>      100121  2</td><td>28.41667</td><td>1</td><td>virgin  </td><td> 0.00000</td><td>1</td></tr>\n",
       "\t<tr><td>      100121  2</td><td>28.41667</td><td>1</td><td>married </td><td>18.00000</td><td>3</td></tr>\n",
       "</tbody>\n",
       "</table>\n"
      ],
      "text/latex": [
       "A tibble: 30 × 6\n",
       "\\begin{tabular}{llllll}\n",
       " id & age & unions & state & time & staten\\\\\n",
       " <chr> & <dbl> & <int+lbl> & <fct> & <dbl> & <dbl>\\\\\n",
       "\\hline\n",
       "\t       1001 5  1 & 36.16667 & 2 & virgin   &  0.00000 & 1\\\\\n",
       "\t       1001 5  1 & 36.16667 & 2 & married  & 15.00000 & 3\\\\\n",
       "\t       1001 5  1 & 36.16667 & 2 & divorced & 36.16667 & 5\\\\\n",
       "\t       1001 6  2 & 26.08333 & 1 & virgin   &  0.00000 & 1\\\\\n",
       "\t       1001 6  2 & 26.08333 & 1 & married  & 14.00000 & 3\\\\\n",
       "\t       1001 7  2 & 30.58333 & 1 & virgin   &  0.00000 & 1\\\\\n",
       "\t       1001 7  2 & 30.58333 & 1 & married  & 17.00000 & 3\\\\\n",
       "\t       1001 9  2 & 24.25000 & 1 & virgin   &  0.00000 & 1\\\\\n",
       "\t       1001 9  2 & 24.25000 & 1 & married  & 19.00000 & 3\\\\\n",
       "\t       100110  2 & 32.33333 & 1 & virgin   &  0.00000 & 1\\\\\n",
       "\t       100110  2 & 32.33333 & 1 & married  & 18.00000 & 3\\\\\n",
       "\t       100111  1 & 27.50000 & 1 & virgin   &  0.00000 & 1\\\\\n",
       "\t       100111  1 & 27.50000 & 1 & married  & 17.00000 & 3\\\\\n",
       "\t       100112  2 & 21.08333 & 1 & virgin   &  0.00000 & 1\\\\\n",
       "\t       100112  2 & 21.08333 & 1 & married  & 14.00000 & 3\\\\\n",
       "\t       100114  3 & 26.91667 & 1 & virgin   &  0.00000 & 1\\\\\n",
       "\t       100114  3 & 26.91667 & 1 & married  & 15.00000 & 3\\\\\n",
       "\t       100115  1 & 47.00000 & 1 & virgin   &  0.00000 & 1\\\\\n",
       "\t       100115  1 & 47.00000 & 1 & debut    & 14.00000 & 2\\\\\n",
       "\t       100115  1 & 47.00000 & 1 & married  & 18.00000 & 3\\\\\n",
       "\t       100116  2 & 20.25000 & 1 & virgin   &  0.00000 & 1\\\\\n",
       "\t       100116  2 & 20.25000 & 1 & married  & 19.00000 & 3\\\\\n",
       "\t       100117  2 & 23.41667 & 1 & virgin   &  0.00000 & 1\\\\\n",
       "\t       100117  2 & 23.41667 & 1 & married  & 15.00000 & 3\\\\\n",
       "\t       100118  2 & 20.25000 & 2 & virgin   &  0.00000 & 1\\\\\n",
       "\t       100118  2 & 20.25000 & 2 & married  & 13.00000 & 3\\\\\n",
       "\t       100120  2 & 26.16667 & 1 & virgin   &  0.00000 & 1\\\\\n",
       "\t       100120  2 & 26.16667 & 1 & married  & 17.00000 & 3\\\\\n",
       "\t       100121  2 & 28.41667 & 1 & virgin   &  0.00000 & 1\\\\\n",
       "\t       100121  2 & 28.41667 & 1 & married  & 18.00000 & 3\\\\\n",
       "\\end{tabular}\n"
      ],
      "text/markdown": [
       "\n",
       "A tibble: 30 × 6\n",
       "\n",
       "| id &lt;chr&gt; | age &lt;dbl&gt; | unions &lt;int+lbl&gt; | state &lt;fct&gt; | time &lt;dbl&gt; | staten &lt;dbl&gt; |\n",
       "|---|---|---|---|---|---|\n",
       "|       1001 5  1 | 36.16667 | 2 | virgin   |  0.00000 | 1 |\n",
       "|       1001 5  1 | 36.16667 | 2 | married  | 15.00000 | 3 |\n",
       "|       1001 5  1 | 36.16667 | 2 | divorced | 36.16667 | 5 |\n",
       "|       1001 6  2 | 26.08333 | 1 | virgin   |  0.00000 | 1 |\n",
       "|       1001 6  2 | 26.08333 | 1 | married  | 14.00000 | 3 |\n",
       "|       1001 7  2 | 30.58333 | 1 | virgin   |  0.00000 | 1 |\n",
       "|       1001 7  2 | 30.58333 | 1 | married  | 17.00000 | 3 |\n",
       "|       1001 9  2 | 24.25000 | 1 | virgin   |  0.00000 | 1 |\n",
       "|       1001 9  2 | 24.25000 | 1 | married  | 19.00000 | 3 |\n",
       "|       100110  2 | 32.33333 | 1 | virgin   |  0.00000 | 1 |\n",
       "|       100110  2 | 32.33333 | 1 | married  | 18.00000 | 3 |\n",
       "|       100111  1 | 27.50000 | 1 | virgin   |  0.00000 | 1 |\n",
       "|       100111  1 | 27.50000 | 1 | married  | 17.00000 | 3 |\n",
       "|       100112  2 | 21.08333 | 1 | virgin   |  0.00000 | 1 |\n",
       "|       100112  2 | 21.08333 | 1 | married  | 14.00000 | 3 |\n",
       "|       100114  3 | 26.91667 | 1 | virgin   |  0.00000 | 1 |\n",
       "|       100114  3 | 26.91667 | 1 | married  | 15.00000 | 3 |\n",
       "|       100115  1 | 47.00000 | 1 | virgin   |  0.00000 | 1 |\n",
       "|       100115  1 | 47.00000 | 1 | debut    | 14.00000 | 2 |\n",
       "|       100115  1 | 47.00000 | 1 | married  | 18.00000 | 3 |\n",
       "|       100116  2 | 20.25000 | 1 | virgin   |  0.00000 | 1 |\n",
       "|       100116  2 | 20.25000 | 1 | married  | 19.00000 | 3 |\n",
       "|       100117  2 | 23.41667 | 1 | virgin   |  0.00000 | 1 |\n",
       "|       100117  2 | 23.41667 | 1 | married  | 15.00000 | 3 |\n",
       "|       100118  2 | 20.25000 | 2 | virgin   |  0.00000 | 1 |\n",
       "|       100118  2 | 20.25000 | 2 | married  | 13.00000 | 3 |\n",
       "|       100120  2 | 26.16667 | 1 | virgin   |  0.00000 | 1 |\n",
       "|       100120  2 | 26.16667 | 1 | married  | 17.00000 | 3 |\n",
       "|       100121  2 | 28.41667 | 1 | virgin   |  0.00000 | 1 |\n",
       "|       100121  2 | 28.41667 | 1 | married  | 18.00000 | 3 |\n",
       "\n"
      ],
      "text/plain": [
       "   id              age      unions state    time     staten\n",
       "1        1001 5  1 36.16667 2      virgin    0.00000 1     \n",
       "2        1001 5  1 36.16667 2      married  15.00000 3     \n",
       "3        1001 5  1 36.16667 2      divorced 36.16667 5     \n",
       "4        1001 6  2 26.08333 1      virgin    0.00000 1     \n",
       "5        1001 6  2 26.08333 1      married  14.00000 3     \n",
       "6        1001 7  2 30.58333 1      virgin    0.00000 1     \n",
       "7        1001 7  2 30.58333 1      married  17.00000 3     \n",
       "8        1001 9  2 24.25000 1      virgin    0.00000 1     \n",
       "9        1001 9  2 24.25000 1      married  19.00000 3     \n",
       "10       100110  2 32.33333 1      virgin    0.00000 1     \n",
       "11       100110  2 32.33333 1      married  18.00000 3     \n",
       "12       100111  1 27.50000 1      virgin    0.00000 1     \n",
       "13       100111  1 27.50000 1      married  17.00000 3     \n",
       "14       100112  2 21.08333 1      virgin    0.00000 1     \n",
       "15       100112  2 21.08333 1      married  14.00000 3     \n",
       "16       100114  3 26.91667 1      virgin    0.00000 1     \n",
       "17       100114  3 26.91667 1      married  15.00000 3     \n",
       "18       100115  1 47.00000 1      virgin    0.00000 1     \n",
       "19       100115  1 47.00000 1      debut    14.00000 2     \n",
       "20       100115  1 47.00000 1      married  18.00000 3     \n",
       "21       100116  2 20.25000 1      virgin    0.00000 1     \n",
       "22       100116  2 20.25000 1      married  19.00000 3     \n",
       "23       100117  2 23.41667 1      virgin    0.00000 1     \n",
       "24       100117  2 23.41667 1      married  15.00000 3     \n",
       "25       100118  2 20.25000 2      virgin    0.00000 1     \n",
       "26       100118  2 20.25000 2      married  13.00000 3     \n",
       "27       100120  2 26.16667 1      virgin    0.00000 1     \n",
       "28       100120  2 26.16667 1      married  17.00000 3     \n",
       "29       100121  2 28.41667 1      virgin    0.00000 1     \n",
       "30       100121  2 28.41667 1      married  18.00000 3     "
      ]
     },
     "metadata": {},
     "output_type": "display_data"
    }
   ],
   "source": [
    "msm_wide %>%\n",
    "  select(id, age, unions, starts_with('S_')) %>%\n",
    "  pivot_longer(\n",
    "    -c(id, age, unions),\n",
    "    names_sep = \"_\",\n",
    "    names_to = c(NA, \"state\"),\n",
    "    values_to = \"time\"\n",
    "  ) %>%\n",
    "  mutate(state = if_else(state == 'born', 'virgin', state)) %>%\n",
    "  mutate(\n",
    "    time = as.numeric(time), \n",
    "    state = factor(state, levels = c(\"virgin\", 'debut', \"married\", \"separated\", \"divorced\", \"widowed\"))\n",
    "  ) %>%\n",
    "  drop_na() %>%\n",
    "  mutate(staten = as.numeric(state)) %>%\n",
    "  allot(female_msm)\n",
    "\n",
    "female_msm %>% head(30)"
   ]
  },
  {
   "cell_type": "markdown",
   "metadata": {},
   "source": [
    "Observed transition"
   ]
  },
  {
   "cell_type": "code",
   "execution_count": 35,
   "metadata": {
    "vscode": {
     "languageId": "r"
    }
   },
   "outputs": [
    {
     "data": {
      "text/plain": [
       "    to\n",
       "from virgin debut married separated divorced widowed\n",
       "   1   2279  3876    6680         0        0       0\n",
       "   2      0     0    3876         0        0       0\n",
       "   3      0     0       0       447      590     466"
      ]
     },
     "metadata": {},
     "output_type": "display_data"
    }
   ],
   "source": [
    "library(msm)\n",
    "\n",
    "statetable.msm(state, id, data=female_msm)"
   ]
  },
  {
   "cell_type": "markdown",
   "metadata": {},
   "source": [
    "# Model"
   ]
  },
  {
   "cell_type": "markdown",
   "metadata": {},
   "source": [
    "Intensity matrix - starting values"
   ]
  },
  {
   "cell_type": "code",
   "execution_count": 37,
   "metadata": {
    "vscode": {
     "languageId": "r"
    }
   },
   "outputs": [
    {
     "data": {
      "text/html": [
       "<table class=\"dataframe\">\n",
       "<caption>A matrix: 6 × 6 of type dbl</caption>\n",
       "<tbody>\n",
       "\t<tr><td>-0.04976687</td><td> 0.01827362</td><td> 0.03149324</td><td>0.00000000</td><td>0.00000000</td><td>0.00000000</td></tr>\n",
       "\t<tr><td> 0.00000000</td><td>-0.29035883</td><td> 0.29035883</td><td>0.00000000</td><td>0.00000000</td><td>0.00000000</td></tr>\n",
       "\t<tr><td> 0.00000000</td><td> 0.00000000</td><td>-0.06598110</td><td>0.01962312</td><td>0.02590076</td><td>0.02045721</td></tr>\n",
       "\t<tr><td> 0.00000000</td><td> 0.00000000</td><td> 0.00000000</td><td>0.00000000</td><td>0.00000000</td><td>0.00000000</td></tr>\n",
       "\t<tr><td> 0.00000000</td><td> 0.00000000</td><td> 0.00000000</td><td>0.00000000</td><td>0.00000000</td><td>0.00000000</td></tr>\n",
       "\t<tr><td> 0.00000000</td><td> 0.00000000</td><td> 0.00000000</td><td>0.00000000</td><td>0.00000000</td><td>0.00000000</td></tr>\n",
       "</tbody>\n",
       "</table>\n"
      ],
      "text/latex": [
       "A matrix: 6 × 6 of type dbl\n",
       "\\begin{tabular}{llllll}\n",
       "\t -0.04976687 &  0.01827362 &  0.03149324 & 0.00000000 & 0.00000000 & 0.00000000\\\\\n",
       "\t  0.00000000 & -0.29035883 &  0.29035883 & 0.00000000 & 0.00000000 & 0.00000000\\\\\n",
       "\t  0.00000000 &  0.00000000 & -0.06598110 & 0.01962312 & 0.02590076 & 0.02045721\\\\\n",
       "\t  0.00000000 &  0.00000000 &  0.00000000 & 0.00000000 & 0.00000000 & 0.00000000\\\\\n",
       "\t  0.00000000 &  0.00000000 &  0.00000000 & 0.00000000 & 0.00000000 & 0.00000000\\\\\n",
       "\t  0.00000000 &  0.00000000 &  0.00000000 & 0.00000000 & 0.00000000 & 0.00000000\\\\\n",
       "\\end{tabular}\n"
      ],
      "text/markdown": [
       "\n",
       "A matrix: 6 × 6 of type dbl\n",
       "\n",
       "| -0.04976687 |  0.01827362 |  0.03149324 | 0.00000000 | 0.00000000 | 0.00000000 |\n",
       "|  0.00000000 | -0.29035883 |  0.29035883 | 0.00000000 | 0.00000000 | 0.00000000 |\n",
       "|  0.00000000 |  0.00000000 | -0.06598110 | 0.01962312 | 0.02590076 | 0.02045721 |\n",
       "|  0.00000000 |  0.00000000 |  0.00000000 | 0.00000000 | 0.00000000 | 0.00000000 |\n",
       "|  0.00000000 |  0.00000000 |  0.00000000 | 0.00000000 | 0.00000000 | 0.00000000 |\n",
       "|  0.00000000 |  0.00000000 |  0.00000000 | 0.00000000 | 0.00000000 | 0.00000000 |\n",
       "\n"
      ],
      "text/plain": [
       "     [,1]        [,2]        [,3]        [,4]       [,5]       [,6]      \n",
       "[1,] -0.04976687  0.01827362  0.03149324 0.00000000 0.00000000 0.00000000\n",
       "[2,]  0.00000000 -0.29035883  0.29035883 0.00000000 0.00000000 0.00000000\n",
       "[3,]  0.00000000  0.00000000 -0.06598110 0.01962312 0.02590076 0.02045721\n",
       "[4,]  0.00000000  0.00000000  0.00000000 0.00000000 0.00000000 0.00000000\n",
       "[5,]  0.00000000  0.00000000  0.00000000 0.00000000 0.00000000 0.00000000\n",
       "[6,]  0.00000000  0.00000000  0.00000000 0.00000000 0.00000000 0.00000000"
      ]
     },
     "metadata": {},
     "output_type": "display_data"
    }
   ],
   "source": [
    "Qp <- rbind(\n",
    "  c(0, 0.1, 0.1, 0, 0, 0),\n",
    "  c(0, 0, .1, 0, 0, 0),\n",
    "  c(0, 0, 0, 0.1, 0.1, 0.1),\n",
    "  c(0, 0, 0.1, 0, 0, 0),\n",
    "  c(0, 0, 0.1, 0, 0, 0),\n",
    "  c(0, 0, 0.1, 0, 0, 0)\n",
    ")\n",
    "\n",
    "Q.crude <- crudeinits.msm(staten ~ time, id, data = female_msm, qmatrix = Qp)\n",
    "Q.crude"
   ]
  },
  {
   "cell_type": "markdown",
   "metadata": {},
   "source": [
    "> There is no data on the last three rows: Divorced/Widowed/Separated -> Married."
   ]
  },
  {
   "cell_type": "markdown",
   "metadata": {},
   "source": [
    "Fit the model\n",
    "\n",
    "> note that `fnscale` need to be set in this data to avoid numerical overflow (why?)"
   ]
  },
  {
   "cell_type": "code",
   "execution_count": 38,
   "metadata": {
    "vscode": {
     "languageId": "r"
    }
   },
   "outputs": [
    {
     "name": "stderr",
     "output_type": "stream",
     "text": [
      "Warning message in msm.optim.optim(p = list(inits = c(qbase = -2.30258509299405, :\n",
      "\"Iteration limit in optim() reached without convergence. Reported estimates are not the maximum likelihood. Increase \"maxit\" or change optimisation method - see help(optim) and help(msm).\"\n"
     ]
    }
   ],
   "source": [
    "msm <- msm(staten ~ time,\n",
    "  subject = id, data = female_msm, qmatrix = Qp,\n",
    "  control = list(fnscale = 10000)\n",
    ")"
   ]
  },
  {
   "cell_type": "code",
   "execution_count": 39,
   "metadata": {
    "vscode": {
     "languageId": "r"
    }
   },
   "outputs": [
    {
     "data": {
      "text/plain": [
       "\n",
       "Call:\n",
       "msm(formula = staten ~ time, subject = id, data = female_msm,     qmatrix = Qp, control = list(fnscale = 10000))\n",
       "\n",
       "Maximum likelihood estimates\n",
       "\n",
       "Transition intensities\n",
       "                  Baseline                          \n",
       "State 1 - State 1 -9.073e-02 (-9.268e-02,-8.883e-02)\n",
       "State 1 - State 2  9.073e-02 ( 8.883e-02, 9.268e-02)\n",
       "State 1 - State 3  1.953e-08 ( 6.235e-44, 6.115e+27)\n",
       "State 2 - State 2 -2.106e-01 (-2.170e-01,-2.044e-01)\n",
       "State 2 - State 3  2.106e-01 ( 2.044e-01, 2.170e-01)\n",
       "State 3 - State 3 -2.162e-02 (-2.279e-02,-2.052e-02)\n",
       "State 3 - State 4  6.439e-03 ( 5.854e-03, 7.083e-03)\n",
       "State 3 - State 5  8.487e-03 ( 7.821e-03, 9.209e-03)\n",
       "State 3 - State 6  6.697e-03 ( 6.110e-03, 7.340e-03)\n",
       "State 4 - State 3  3.989e-04 ( 1.379e-07, 1.153e+00)\n",
       "State 4 - State 4 -3.989e-04 (-1.153e+00,-1.379e-07)\n",
       "State 5 - State 3  5.085e-07 ( 2.176e-42, 1.188e+29)\n",
       "State 5 - State 5 -5.085e-07 (-1.188e+29,-2.176e-42)\n",
       "State 6 - State 3  5.664e-05 ( 2.903e-07, 1.105e-02)\n",
       "State 6 - State 6 -5.664e-05 (-1.105e-02,-2.903e-07)\n",
       "\n",
       "-2 * log-likelihood:  46082.1 "
      ]
     },
     "metadata": {},
     "output_type": "display_data"
    }
   ],
   "source": [
    "msm"
   ]
  },
  {
   "cell_type": "markdown",
   "metadata": {},
   "source": [
    "Transition probability"
   ]
  },
  {
   "cell_type": "code",
   "execution_count": 40,
   "metadata": {
    "vscode": {
     "languageId": "r"
    }
   },
   "outputs": [
    {
     "data": {
      "text/plain": [
       "        State 1 State 2 State 3 State 4 State 5 State 6\n",
       "State 1    0.64    0.22    0.14    0.00    0.00    0.00\n",
       "State 2    0.00    0.35    0.61    0.01    0.02    0.01\n",
       "State 3    0.00    0.00    0.90    0.03    0.04    0.03\n",
       "State 4    0.00    0.00    0.00    1.00    0.00    0.00\n",
       "State 5    0.00    0.00    0.00    0.00    1.00    0.00\n",
       "State 6    0.00    0.00    0.00    0.00    0.00    1.00"
      ]
     },
     "metadata": {},
     "output_type": "display_data"
    }
   ],
   "source": [
    "pmatrix.msm(msm, t=5) %>% round(2)"
   ]
  },
  {
   "cell_type": "markdown",
   "metadata": {},
   "source": [
    "If currently virgin, \n",
    "- probability of making sexual debut 5 years from now is 0.26\n",
    "- probability of married (without sexual debut) 5 years from now is 0.08"
   ]
  },
  {
   "cell_type": "code",
   "execution_count": 41,
   "metadata": {
    "vscode": {
     "languageId": "r"
    }
   },
   "outputs": [
    {
     "data": {
      "text/html": [
       "<table class=\"dataframe\">\n",
       "<caption>A tibble: 6 × 8</caption>\n",
       "<thead>\n",
       "\t<tr><th scope=col>State 1</th><th scope=col>State 2</th><th scope=col>State 3</th><th scope=col>State 4</th><th scope=col>State 5</th><th scope=col>State 6</th><th scope=col>state</th><th scope=col>time</th></tr>\n",
       "\t<tr><th scope=col>&lt;dbl&gt;</th><th scope=col>&lt;dbl&gt;</th><th scope=col>&lt;dbl&gt;</th><th scope=col>&lt;dbl&gt;</th><th scope=col>&lt;dbl&gt;</th><th scope=col>&lt;dbl&gt;</th><th scope=col>&lt;int&gt;</th><th scope=col>&lt;int&gt;</th></tr>\n",
       "</thead>\n",
       "<tbody>\n",
       "\t<tr><td>0.9132612</td><td>0.07809026</td><td>8.584955e-03</td><td>1.892553e-05</td><td>2.494571e-05</td><td>1.968459e-05</td><td>1</td><td>1</td></tr>\n",
       "\t<tr><td>0.0000000</td><td>0.81011290</td><td>1.877778e-01</td><td>6.280933e-04</td><td>8.279172e-04</td><td>6.533042e-04</td><td>2</td><td>1</td></tr>\n",
       "\t<tr><td>0.0000000</td><td>0.00000000</td><td>9.786111e-01</td><td>6.368724e-03</td><td>8.395434e-03</td><td>6.624723e-03</td><td>3</td><td>1</td></tr>\n",
       "\t<tr><td>0.0000000</td><td>0.00000000</td><td>3.945245e-04</td><td>9.996025e-01</td><td>1.680215e-06</td><td>1.325848e-06</td><td>4</td><td>1</td></tr>\n",
       "\t<tr><td>0.0000000</td><td>0.00000000</td><td>5.030296e-07</td><td>1.625151e-09</td><td>9.999995e-01</td><td>1.690379e-09</td><td>5</td><td>1</td></tr>\n",
       "\t<tr><td>0.0000000</td><td>0.00000000</td><td>5.603151e-05</td><td>1.810242e-07</td><td>2.386154e-07</td><td>9.999435e-01</td><td>6</td><td>1</td></tr>\n",
       "</tbody>\n",
       "</table>\n"
      ],
      "text/latex": [
       "A tibble: 6 × 8\n",
       "\\begin{tabular}{llllllll}\n",
       " State 1 & State 2 & State 3 & State 4 & State 5 & State 6 & state & time\\\\\n",
       " <dbl> & <dbl> & <dbl> & <dbl> & <dbl> & <dbl> & <int> & <int>\\\\\n",
       "\\hline\n",
       "\t 0.9132612 & 0.07809026 & 8.584955e-03 & 1.892553e-05 & 2.494571e-05 & 1.968459e-05 & 1 & 1\\\\\n",
       "\t 0.0000000 & 0.81011290 & 1.877778e-01 & 6.280933e-04 & 8.279172e-04 & 6.533042e-04 & 2 & 1\\\\\n",
       "\t 0.0000000 & 0.00000000 & 9.786111e-01 & 6.368724e-03 & 8.395434e-03 & 6.624723e-03 & 3 & 1\\\\\n",
       "\t 0.0000000 & 0.00000000 & 3.945245e-04 & 9.996025e-01 & 1.680215e-06 & 1.325848e-06 & 4 & 1\\\\\n",
       "\t 0.0000000 & 0.00000000 & 5.030296e-07 & 1.625151e-09 & 9.999995e-01 & 1.690379e-09 & 5 & 1\\\\\n",
       "\t 0.0000000 & 0.00000000 & 5.603151e-05 & 1.810242e-07 & 2.386154e-07 & 9.999435e-01 & 6 & 1\\\\\n",
       "\\end{tabular}\n"
      ],
      "text/markdown": [
       "\n",
       "A tibble: 6 × 8\n",
       "\n",
       "| State 1 &lt;dbl&gt; | State 2 &lt;dbl&gt; | State 3 &lt;dbl&gt; | State 4 &lt;dbl&gt; | State 5 &lt;dbl&gt; | State 6 &lt;dbl&gt; | state &lt;int&gt; | time &lt;int&gt; |\n",
       "|---|---|---|---|---|---|---|---|\n",
       "| 0.9132612 | 0.07809026 | 8.584955e-03 | 1.892553e-05 | 2.494571e-05 | 1.968459e-05 | 1 | 1 |\n",
       "| 0.0000000 | 0.81011290 | 1.877778e-01 | 6.280933e-04 | 8.279172e-04 | 6.533042e-04 | 2 | 1 |\n",
       "| 0.0000000 | 0.00000000 | 9.786111e-01 | 6.368724e-03 | 8.395434e-03 | 6.624723e-03 | 3 | 1 |\n",
       "| 0.0000000 | 0.00000000 | 3.945245e-04 | 9.996025e-01 | 1.680215e-06 | 1.325848e-06 | 4 | 1 |\n",
       "| 0.0000000 | 0.00000000 | 5.030296e-07 | 1.625151e-09 | 9.999995e-01 | 1.690379e-09 | 5 | 1 |\n",
       "| 0.0000000 | 0.00000000 | 5.603151e-05 | 1.810242e-07 | 2.386154e-07 | 9.999435e-01 | 6 | 1 |\n",
       "\n"
      ],
      "text/plain": [
       "  State 1   State 2    State 3      State 4      State 5      State 6     \n",
       "1 0.9132612 0.07809026 8.584955e-03 1.892553e-05 2.494571e-05 1.968459e-05\n",
       "2 0.0000000 0.81011290 1.877778e-01 6.280933e-04 8.279172e-04 6.533042e-04\n",
       "3 0.0000000 0.00000000 9.786111e-01 6.368724e-03 8.395434e-03 6.624723e-03\n",
       "4 0.0000000 0.00000000 3.945245e-04 9.996025e-01 1.680215e-06 1.325848e-06\n",
       "5 0.0000000 0.00000000 5.030296e-07 1.625151e-09 9.999995e-01 1.690379e-09\n",
       "6 0.0000000 0.00000000 5.603151e-05 1.810242e-07 2.386154e-07 9.999435e-01\n",
       "  state time\n",
       "1 1     1   \n",
       "2 2     1   \n",
       "3 3     1   \n",
       "4 4     1   \n",
       "5 5     1   \n",
       "6 6     1   "
      ]
     },
     "metadata": {},
     "output_type": "display_data"
    }
   ],
   "source": [
    "gd <- purrr::map_dfr(\n",
    "    1:30,\n",
    "    function(x) {\n",
    "        pmatrix.msm(msm, t = x) %>%\n",
    "            unclass() %>%\n",
    "            as_tibble() %>%\n",
    "            mutate(state = 1:n(), time = x)\n",
    "    }\n",
    ")\n",
    "head(gd)"
   ]
  },
  {
   "cell_type": "code",
   "execution_count": 43,
   "metadata": {
    "vscode": {
     "languageId": "r"
    }
   },
   "outputs": [
    {
     "data": {
      "image/png": "[encoded data removed]",
      "text/plain": [
       "plot without title"
      ]
     },
     "metadata": {
      "image/png": {
       "height": 240,
       "width": 420
      }
     },
     "output_type": "display_data"
    }
   ],
   "source": [
    "ktools::sizing(7, 4)\n",
    "gd %>%\n",
    "    filter(`State 2` != 0, state == 1) %>%\n",
    "    ggplot(aes(time, `State 2`)) +\n",
    "    geom_line() +\n",
    "    labs(title = \"Prob. sexual debut if currently virgin\")"
   ]
  },
  {
   "cell_type": "code",
   "execution_count": 48,
   "metadata": {
    "vscode": {
     "languageId": "r"
    }
   },
   "outputs": [
    {
     "data": {
      "image/png": "[encoded data removed]",
      "text/plain": [
       "plot without title"
      ]
     },
     "metadata": {
      "image/png": {
       "height": 240,
       "width": 420
      }
     },
     "output_type": "display_data"
    }
   ],
   "source": [
    "gd %>%\n",
    "    filter(state == 3) %>%\n",
    "    ggplot(aes(time, `State 3`)) +\n",
    "    geom_line() +\n",
    "    labs(title = \"Prob. staying married\")"
   ]
  },
  {
   "cell_type": "code",
   "execution_count": 47,
   "metadata": {
    "vscode": {
     "languageId": "r"
    }
   },
   "outputs": [
    {
     "data": {
      "image/png": "[encoded data removed]",
      "text/plain": [
       "plot without title"
      ]
     },
     "metadata": {
      "image/png": {
       "height": 240,
       "width": 420
      }
     },
     "output_type": "display_data"
    }
   ],
   "source": [
    "gd %>%\n",
    "    filter(state == 3) %>%\n",
    "    select(4:8) %>%\n",
    "    rename_with(~ char(S_Separated, S_Divorced, S_Widowed, state, time)) %>%\n",
    "    pivot_longer(starts_with('S_'), names_to = c(NA, \"State\"), names_sep = '_') %>%\n",
    "    ggplot(aes(time, value, color = State)) +\n",
    "    geom_line() +\n",
    "    labs(title = \"Prob. dissolution\")"
   ]
  },
  {
   "cell_type": "markdown",
   "metadata": {},
   "source": [
    "Average time stays within each state\n",
    "\n",
    "$-1/q_{rr}$"
   ]
  },
  {
   "cell_type": "code",
   "execution_count": 30,
   "metadata": {
    "vscode": {
     "languageId": "r"
    }
   },
   "outputs": [
    {
     "data": {
      "text/html": [
       "<strong>$estimates</strong> = <style>\n",
       ".dl-inline {width: auto; margin:0; padding: 0}\n",
       ".dl-inline>dt, .dl-inline>dd {float: none; width: auto; display: inline-block}\n",
       ".dl-inline>dt::after {content: \":\\0020\"; padding-right: .5ex}\n",
       ".dl-inline>dt:not(:first-of-type) {padding-left: .5ex}\n",
       "</style><dl class=dl-inline><dt>State 1</dt><dd>5</dd><dt>State 2</dt><dd>10</dd><dt>State 3</dt><dd>3.33333333333334</dd><dt>State 4</dt><dd>10</dd><dt>State 5</dt><dd>10</dd><dt>State 6</dt><dd>10</dd></dl>\n"
      ],
      "text/latex": [
       "\\textbf{\\$estimates} = \\begin{description*}\n",
       "\\item[State 1] 5\n",
       "\\item[State 2] 10\n",
       "\\item[State 3] 3.33333333333334\n",
       "\\item[State 4] 10\n",
       "\\item[State 5] 10\n",
       "\\item[State 6] 10\n",
       "\\end{description*}\n"
      ],
      "text/markdown": [
       "**$estimates** = State 1\n",
       ":   5State 2\n",
       ":   10State 3\n",
       ":   3.33333333333334State 4\n",
       ":   10State 5\n",
       ":   10State 6\n",
       ":   10\n",
       "\n"
      ],
      "text/plain": [
       "$estimates\n",
       "  State 1   State 2   State 3   State 4   State 5   State 6 \n",
       " 5.000000 10.000000  3.333333 10.000000 10.000000 10.000000 \n"
      ]
     },
     "metadata": {},
     "output_type": "display_data"
    }
   ],
   "source": [
    "sojourn.msm(msm)"
   ]
  },
  {
   "cell_type": "markdown",
   "metadata": {},
   "source": [
    "Probability that each state is next $-q_{rs}/q_{rr}$"
   ]
  },
  {
   "cell_type": "code",
   "execution_count": 31,
   "metadata": {
    "vscode": {
     "languageId": "r"
    }
   },
   "outputs": [
    {
     "data": {
      "text/plain": [
       "        State 1 State 2 State 3 State 4 State 5 State 6\n",
       "State 1 0.0000  0.5000  0.5000  0.0000  0.0000  0.0000 \n",
       "State 2 0.0000  0.0000  1.0000  0.0000  0.0000  0.0000 \n",
       "State 3 0.0000  0.0000  0.0000  0.3333  0.3333  0.3333 \n",
       "State 4 0.0000  0.0000  1.0000  0.0000  0.0000  0.0000 \n",
       "State 5 0.0000  0.0000  1.0000  0.0000  0.0000  0.0000 \n",
       "State 6 0.0000  0.0000  1.0000  0.0000  0.0000  0.0000 "
      ]
     },
     "metadata": {},
     "output_type": "display_data"
    }
   ],
   "source": [
    "pnext.msm(msm)"
   ]
  },
  {
   "cell_type": "markdown",
   "metadata": {},
   "source": [
    "Total length of stay $\\int_{t_1}^{t_2} P(t)_{r, s}dt$"
   ]
  },
  {
   "cell_type": "code",
   "execution_count": 32,
   "metadata": {
    "vscode": {
     "languageId": "r"
    }
   },
   "outputs": [
    {
     "ename": "ERROR",
     "evalue": "Error in totlos.msm(msm, end = 5): Must specify a finite end time for a model with no absorbing state\n",
     "output_type": "error",
     "traceback": [
      "Error in totlos.msm(msm, end = 5): Must specify a finite end time for a model with no absorbing state\nTraceback:\n",
      "1. totlos.msm(msm, end = 5)",
      "2. stop(\"Must specify a finite end time for a model with no absorbing state\")"
     ]
    }
   ],
   "source": [
    "totlos.msm(msm, end  = 5)"
   ]
  },
  {
   "cell_type": "markdown",
   "metadata": {},
   "source": [
    "Hazard ratios for transition"
   ]
  },
  {
   "cell_type": "code",
   "execution_count": 33,
   "metadata": {
    "vscode": {
     "languageId": "r"
    }
   },
   "outputs": [
    {
     "data": {
      "text/html": [
       "'No covariates on transition intensities'"
      ],
      "text/latex": [
       "'No covariates on transition intensities'"
      ],
      "text/markdown": [
       "'No covariates on transition intensities'"
      ],
      "text/plain": [
       "[1] \"No covariates on transition intensities\""
      ]
     },
     "metadata": {},
     "output_type": "display_data"
    }
   ],
   "source": [
    "hazard.msm(msm)"
   ]
  }
 ],
 "metadata": {
  "kernelspec": {
   "display_name": "R",
   "language": "R",
   "name": "ir"
  },
  "language_info": {
   "codemirror_mode": "r",
   "file_extension": ".r",
   "mimetype": "text/x-r-source",
   "name": "R",
   "pygments_lexer": "r",
   "version": "4.1.0"
  },
  "orig_nbformat": 4
 },
 "nbformat": 4,
 "nbformat_minor": 2
}
